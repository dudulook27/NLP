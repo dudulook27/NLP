{
  "nbformat": 4,
  "nbformat_minor": 0,
  "metadata": {
    "colab": {
      "name": "NLP.ipynb",
      "version": "0.3.2",
      "provenance": [],
      "include_colab_link": true
    },
    "kernelspec": {
      "name": "python3",
      "display_name": "Python 3"
    }
  },
  "cells": [
    {
      "cell_type": "markdown",
      "metadata": {
        "id": "view-in-github",
        "colab_type": "text"
      },
      "source": [
        "<a href=\"https://colab.research.google.com/github/koffer9/NLP/blob/master/NLP.ipynb\" target=\"_parent\"><img src=\"https://colab.research.google.com/assets/colab-badge.svg\" alt=\"Open In Colab\"/></a>"
      ]
    },
    {
      "metadata": {
        "id": "wSWwzO_9ltf3",
        "colab_type": "code",
        "colab": {
          "base_uri": "https://localhost:8080/",
          "height": 51
        },
        "outputId": "d12d3a2e-a333-4d55-c317-33d33bf97952"
      },
      "cell_type": "code",
      "source": [
        "x=int(input('input is '))\n",
        "\n",
        "def stepcount(x):\n",
        "\tr=int(pow(x-1,0.5)/2+0.5)\n",
        "\tc=x-pow(2*r-1,2)\n",
        "\tn=abs(c%(2*r)-r)+r\n",
        "\treturn n\n",
        "\n",
        "print('steps needed back to square 1 is ',stepcount(x))"
      ],
      "execution_count": 1,
      "outputs": [
        {
          "output_type": "stream",
          "text": [
            "input is 30\n",
            "steps needed back to square 1 is  5\n"
          ],
          "name": "stdout"
        }
      ]
    },
    {
      "metadata": {
        "id": "76TZuXyVpWSP",
        "colab_type": "code",
        "colab": {
          "base_uri": "https://localhost:8080/",
          "height": 367
        },
        "outputId": "817d8212-5a18-42c2-aefe-09f6d9ad62b0"
      },
      "cell_type": "code",
      "source": [
        "# encoding=utf-8\n",
        "import jieba\n",
        "\n",
        "\n",
        "example='你们今天/明天/后天会不会到大学/中学/小学里去打球/滑冰/骑车呀？'\n",
        "print('请输入一段包含不同选项的句子，各选项直接用分隔符/分开')\n",
        "print('例句：',example)\n",
        "print('或者直接回车：')\n",
        "text=input()\n",
        "if text==\"\":\n",
        "    text=example\n",
        "print('输入是:')\n",
        "print(text) #把输入返回一次\n",
        "seg_list = jieba.lcut(text)  # 默认是精确模式\n",
        "l=len(seg_list) #拆词列表长度\n",
        "n=0\n",
        "ex_location=[]\n",
        "ex_options=[]\n",
        "seg_stat=[]\n",
        "\n",
        "#识别拆词列表各部分的属性，判断出可选项起始位置和选项数量\n",
        "for i in range(0,l):\n",
        "    if ((i==0 and seg_list[1]=='/') or (i>0 and i<l-1 and seg_list[i-1]!='/' and seg_list[i+1]=='/')) and seg_list[i]!='/':\n",
        "        ex_location.append(i)\n",
        "        n+=1\n",
        "        seg_stat.append('op_head') #可选项第一选项\n",
        "    elif (i>0 and i<l-1 and seg_list[i-1]=='/' and seg_list[i+1]=='/') and seg_list[i]!='/':\n",
        "        n+=1\n",
        "        seg_stat.append('op_mid') #可选项中间选项\n",
        "    elif ((i==l-1 and seg_list[i-1]=='/') or (i>0 and i<l-1 and seg_list[i-1]=='/' and seg_list[i+1]!='/')) and seg_list[i]!='/':\n",
        "        n+=1\n",
        "        ex_options.append(n)\n",
        "        n=0\n",
        "        seg_stat.append('op_tail') #可选项末尾选项\n",
        "    elif ((i==0 and seg_list[1]!='/') or (i==l-1 and seg_list[i-1]!='/') or (i>0 and i<l-1 and seg_list[i-1]!='/' and seg_list[i+1]!='/')) and seg_list[i]!='/':\n",
        "        n=0\n",
        "        seg_stat.append('fixed') #固定部分\n",
        "    else:\n",
        "        seg_stat.append('separation') #分隔符\n",
        "#print('found ex_location: ',ex_location) #识别可选项的起始位置\n",
        "#print('found ex_options: ',ex_options) 识别可选项的选项数量\n",
        "#print(seg_stat)拆解后各词组性质\n",
        "\n",
        "#识别输出数量\n",
        "total=1\n",
        "for ex_option in ex_options:\n",
        "    total=total*ex_option\n",
        "\n",
        "#选择性输出部分\n",
        "print('输出是：')\n",
        "for i in range(0,total):\n",
        "    ex_accumulate=[]\n",
        "    ex_choice=[]\n",
        "    for j in range(0,len(ex_options)): #计算出每个选项的累积乘数，根据累计乘数取余算出所有选项组合\n",
        "        ex_choice.append(0)\n",
        "        if j==0:\n",
        "            ex_accumulate.append(ex_options[j])\n",
        "            ex_choice[j]=i%ex_options[j]\n",
        "        else:\n",
        "            ex_accumulate.append(ex_accumulate[j-1]*ex_options[j])\n",
        "            ex_choice[j]=int(i/ex_accumulate[j-1])%ex_options[j]\n",
        "    #print(i,' ',ex_choice[0],' ',ex_choice[1],' ',ex_choice[2])\n",
        "    sentence=[]\n",
        "    for m in range(0,l): #从最初的拆词列表内选择输出需要的词组，组合输出\n",
        "        if seg_stat[m]=='fixed':\n",
        "            sentence.append(seg_list[m])\n",
        "        else:\n",
        "            for n in range(0,len(ex_options)):\n",
        "                if m==ex_location[n]:\n",
        "                    sentence.append(seg_list[ex_location[n]+2*ex_choice[n]])\n",
        "    print(i+1,'：',\"\".join(sentence))\n",
        "\n",
        "\n",
        "\n"
      ],
      "execution_count": 2,
      "outputs": [
        {
          "output_type": "error",
          "ename": "ModuleNotFoundError",
          "evalue": "ignored",
          "traceback": [
            "\u001b[0;31m---------------------------------------------------------------------------\u001b[0m",
            "\u001b[0;31mModuleNotFoundError\u001b[0m                       Traceback (most recent call last)",
            "\u001b[0;32m<ipython-input-2-2765dd25cf1e>\u001b[0m in \u001b[0;36m<module>\u001b[0;34m()\u001b[0m\n\u001b[0;32m----> 1\u001b[0;31m \u001b[0;32mimport\u001b[0m \u001b[0mjieba\u001b[0m\u001b[0;34m\u001b[0m\u001b[0m\n\u001b[0m\u001b[1;32m      2\u001b[0m \u001b[0;34m\u001b[0m\u001b[0m\n\u001b[1;32m      3\u001b[0m \u001b[0;34m\u001b[0m\u001b[0m\n\u001b[1;32m      4\u001b[0m \u001b[0mexample\u001b[0m\u001b[0;34m=\u001b[0m\u001b[0;34m'你们今天/明天/后天会不会到大学/中学/小学里去打球/滑冰/骑车呀？'\u001b[0m\u001b[0;34m\u001b[0m\u001b[0m\n\u001b[1;32m      5\u001b[0m \u001b[0mprint\u001b[0m\u001b[0;34m(\u001b[0m\u001b[0;34m'请输入一段包含不同选项的句子，各选项直接用分隔符/分开'\u001b[0m\u001b[0;34m)\u001b[0m\u001b[0;34m\u001b[0m\u001b[0m\n",
            "\u001b[0;31mModuleNotFoundError\u001b[0m: No module named 'jieba'",
            "",
            "\u001b[0;31m---------------------------------------------------------------------------\u001b[0;32m\nNOTE: If your import is failing due to a missing package, you can\nmanually install dependencies using either !pip or !apt.\n\nTo view examples of installing some common dependencies, click the\n\"Open Examples\" button below.\n\u001b[0;31m---------------------------------------------------------------------------\u001b[0m\n"
          ]
        }
      ]
    },
    {
      "metadata": {
        "id": "sD3GmM79pcdH",
        "colab_type": "code",
        "colab": {
          "base_uri": "https://localhost:8080/",
          "height": 238
        },
        "outputId": "25b0ed8e-6f72-4ced-fcb5-d7b29df24450"
      },
      "cell_type": "code",
      "source": [
        "simple_grammar = \"\"\"\n",
        "sentence => noun_phrase verb_phrase\n",
        "noun_phrase => Article Adj* noun\n",
        "Adj* => null | Adj Adj*\n",
        "verb_phrase => verb noun_phrase\n",
        "Article => 一个 | 这个\n",
        "noun => 女人 |  篮球 | 桌子 | 小猫\n",
        "verb => 看着 |  坐在 | 听着 | 看见 \n",
        "Adj => 蓝色的 |  好看的 | 小小的\n",
        "\"\"\"\n",
        "#define list needed\n",
        "header=['']*len(simple_grammar.splitlines())\n",
        "value=['']*len(simple_grammar.splitlines())\n",
        "words=[['']*1 for x in range(len(simple_grammar.splitlines()))]\n",
        "result=[]\n",
        "\n",
        "def split():  #to split the grammar\n",
        "\ti=0\n",
        "\tfor line in simple_grammar.splitlines():\n",
        "\t\tif line.count('=>')>0:\n",
        "\t\t\theader[i]=line.split('=>')[0].strip()\n",
        "\t\t\twords[i]=line.split('=>')[1].split('|')\n",
        "\t\tfor j in range(len(words[i])):\n",
        "\t\t\twords[i][j]=words[i][j].lstrip()\n",
        "\t\t\twords[i][j]=words[i][j].rstrip()\n",
        "\t\t#print(header[i],words[i])\n",
        "\t\ti+=1\n",
        "\t#print('---splitted---')\n",
        "\n",
        "def rand(): #to randomize the options\n",
        "\timport random\n",
        "\tfor i in range(len(simple_grammar.splitlines())):\n",
        "\t\tvalue[i]=words[i][random.randint(0,len(words[i])-1)].split(' ')\n",
        "\t\t#print(header[i],'=',value[i])\n",
        "\t#print('---randomized---')\n",
        "\n",
        "def breakdown(result): #to breakdown the components\n",
        "\tfor m in range(len(result)):\n",
        "\t\tfor n in range(len(simple_grammar.splitlines())):\n",
        "\t\t\tif result[m]==header[n]:\n",
        "\t\t\t\tdel result[m]\n",
        "\t\t\t\tfor v in range(len(value[n])):\n",
        "\t\t\t\t\tresult.insert(m+v,value[n][v])\n",
        "\t\t\t\tm=m+v\n",
        "\t#print(result)\n",
        "\t#print('---brokendown---')\n",
        "\treturn result\n",
        "\n",
        "def generator(input):\n",
        "\tprint('Grammar Input is:')\n",
        "\tprint(simple_grammar)\n",
        "\tsplit()\n",
        "\trand()\n",
        "\tfor i in range(len(simple_grammar.splitlines())):\n",
        "\t\tif input==header[i]:\n",
        "\t\t\tresult=value[i]\t\n",
        "\texhaust=False\n",
        "\tcycle=0\n",
        "\twhile exhaust!=True: #this is a repeat to exhaust components\n",
        "\t\trand()\n",
        "\t\tbreakdown(result)\n",
        "\t\t#print(cycle,' ',result)\n",
        "\t\texhaust=True\n",
        "\t\tfor m in range(len(result)):\n",
        "\t\t\tfor n in range(len(simple_grammar.splitlines())):\n",
        "\t\t\t\tif result[m]==header[n]:\n",
        "\t\t\t\t\t#print(result[m],' is not exhausted')\n",
        "\t\t\t\t\texhaust=False\n",
        "\t\t\t\t\tcycle+=1\n",
        "\t\t\t\t\tbreak\n",
        "\ti=0\n",
        "\ttail=False\n",
        "\twhile tail!=True: #to remove null and repeated adj\n",
        "\t\tif i>0 and (result[i]==result[i-1] or result[i]=='null'):\n",
        "\t\t\tdel result[i]\n",
        "\t\t\ti+=-1\n",
        "\t\ttail=i==len(result)-1\n",
        "\t\ti+=1\n",
        "\t\t\t\n",
        "\tprint('Random Output is:')\n",
        "\tprint(''.join(result))\n",
        "\n",
        "generator('sentence')\n"
      ],
      "execution_count": 10,
      "outputs": [
        {
          "output_type": "stream",
          "text": [
            "Grammar Input is:\n",
            "\n",
            "sentence => noun_phrase verb_phrase\n",
            "noun_phrase => Article Adj* noun\n",
            "Adj* => null | Adj Adj*\n",
            "verb_phrase => verb noun_phrase\n",
            "Article => 一个 | 这个\n",
            "noun => 女人 |  篮球 | 桌子 | 小猫\n",
            "verb => 看着 |  坐在 | 听着 | 看见 \n",
            "Adj => 蓝色的 |  好看的 | 小小的\n",
            "\n",
            "Random Output is:\n",
            "这个桌子看见这个蓝色的小猫\n"
          ],
          "name": "stdout"
        }
      ]
    }
  ]
}